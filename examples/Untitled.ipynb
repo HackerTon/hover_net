{
 "cells": [
  {
   "cell_type": "code",
   "execution_count": null,
   "id": "fbc84034-ea4a-4701-b528-d316d7fa5874",
   "metadata": {},
   "outputs": [],
   "source": []
  }
 ],
 "metadata": {
  "kernelspec": {
   "display_name": "Python [conda env:hovernet]",
   "language": "python",
   "name": "conda-env-hovernet-py"
  },
  "language_info": {
   "codemirror_mode": {
    "name": "ipython",
    "version": 3
   },
   "file_extension": ".py",
   "mimetype": "text/x-python",
   "name": "python",
   "nbconvert_exporter": "python",
   "pygments_lexer": "ipython3",
   "version": "3.6.12"
  }
 },
 "nbformat": 4,
 "nbformat_minor": 5
}
